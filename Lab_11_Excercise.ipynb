{
  "nbformat": 4,
  "nbformat_minor": 0,
  "metadata": {
    "colab": {
      "provenance": []
    },
    "kernelspec": {
      "name": "python3",
      "display_name": "Python 3"
    },
    "language_info": {
      "name": "python"
    }
  },
  "cells": [
    {
      "cell_type": "markdown",
      "source": [
        "#Part A: Basic SVM with Linear Kernel"
      ],
      "metadata": {
        "id": "xJ3PWX-O2KRo"
      }
    },
    {
      "cell_type": "code",
      "execution_count": 34,
      "metadata": {
        "id": "ELZw4i4W1M1O"
      },
      "outputs": [],
      "source": [
        "from sklearn.datasets import make_blobs\n",
        "from sklearn.svm import SVC\n",
        "from sklearn.model_selection import train_test_split\n",
        "from sklearn.metrics import accuracy_score,confusion_matrix,precision_score,recall_score\n"
      ]
    },
    {
      "cell_type": "code",
      "source": [
        "def print_measures(y_true,y_pred):\n",
        "  print(\"Confusion Matrix:-\")\n",
        "  print(confusion_matrix(y_true,y_pred))\n",
        "  return {\n",
        "      \"accuracy:- \":accuracy_score(y_test,y_pred),\n",
        "      \"precision:- \":precision_score(y_test,y_pred,average='micro'),\n",
        "      \"recall:- \":recall_score(y_test,y_pred,average='micro')\n",
        "  }\n",
        "  pass"
      ],
      "metadata": {
        "id": "lqL1feIn1fht"
      },
      "execution_count": 35,
      "outputs": []
    },
    {
      "cell_type": "code",
      "source": [
        "X,y=make_blobs(n_samples=10000,centers=2,n_features=4)\n",
        "X_train,X_test,y_train,y_test=train_test_split(X,y,test_size=0.2,random_state=137)\n",
        "model=SVC(C=200).fit(X_train,y_train)\n",
        "y_pred=model.predict(X_test)\n",
        "\n"
      ],
      "metadata": {
        "id": "qFF_A55e1gJ7"
      },
      "execution_count": 36,
      "outputs": []
    },
    {
      "cell_type": "code",
      "source": [
        "metrics=print_measures(y_test,y_pred)\n",
        "\n",
        "for metric in metrics:\n",
        "  print(metric,metrics[metric])"
      ],
      "metadata": {
        "colab": {
          "base_uri": "https://localhost:8080/"
        },
        "id": "hc2Js8ph1ikj",
        "outputId": "79e1b64b-c5ed-4fed-a727-dacc95ff43e5"
      },
      "execution_count": 37,
      "outputs": [
        {
          "output_type": "stream",
          "name": "stdout",
          "text": [
            "Confusion Matrix:-\n",
            "[[1004    0]\n",
            " [   0  996]]\n",
            "accuracy:-  1.0\n",
            "precision:-  1.0\n",
            "recall:-  1.0\n"
          ]
        }
      ]
    },
    {
      "cell_type": "markdown",
      "source": [
        "#Part B : Breast Cancer Prediction Example"
      ],
      "metadata": {
        "id": "eC--w-HO2OPC"
      }
    },
    {
      "cell_type": "code",
      "source": [
        "\n",
        "from sklearn.datasets import load_breast_cancer\n",
        "from sklearn.svm import SVC\n",
        "from sklearn.model_selection import train_test_split\n",
        "from sklearn.metrics import accuracy_score,confusion_matrix"
      ],
      "metadata": {
        "id": "3cbJzi8R1mcg"
      },
      "execution_count": 38,
      "outputs": []
    },
    {
      "cell_type": "code",
      "source": [
        "def print_measures2(y_true,y_pred):\n",
        "  print(\"Confusion Matrix is:-\")\n",
        "  cmat=confusion_matrix(y_true=y_test,y_pred=y_pred)\n",
        "  tn, fp, fn, tp=cmat.ravel()\n",
        "  print(\"tn : \",tn,\" , fp : \",fp,\" , fn : \",fn,\" , tp : \",tp)\n",
        "  return {\n",
        "      \"accuracy\":(tn+tp)/(tn+fp+fn+tp),\n",
        "      \"precision\":(tp)/(fp+tp),\n",
        "      \"recall\":(tp)/(fn+tp)\n",
        "  }\n",
        "  pass"
      ],
      "metadata": {
        "id": "5JnL76lK1mZE"
      },
      "execution_count": 39,
      "outputs": []
    },
    {
      "cell_type": "code",
      "source": [
        "ds=load_breast_cancer()\n",
        "X=ds.data\n",
        "y=ds.target\n",
        "X_train,X_test,y_train,y_test=train_test_split(X,y,test_size=0.2,random_state=137)\n",
        "model=SVC(kernel=\"linear\",C=200).fit(X_train,y_train)"
      ],
      "metadata": {
        "id": "Vg-l_ZP71ouF"
      },
      "execution_count": 40,
      "outputs": []
    },
    {
      "cell_type": "code",
      "source": [
        "y_pred=model.predict(X_test)\n",
        "\n",
        "metrics=print_measures2(y_test,y_pred)\n",
        "\n",
        "for metric in metrics:\n",
        "  print(metric,metrics[metric])\n"
      ],
      "metadata": {
        "colab": {
          "base_uri": "https://localhost:8080/"
        },
        "id": "UulN16jU1qjs",
        "outputId": "21a1b6f2-3eea-474f-980d-f25e808f0049"
      },
      "execution_count": 41,
      "outputs": [
        {
          "output_type": "stream",
          "name": "stdout",
          "text": [
            "Confusion Matrix is:-\n",
            "tn :  41  , fp :  6  , fn :  2  , tp :  65\n",
            "accuracy 0.9298245614035088\n",
            "precision 0.9154929577464789\n",
            "recall 0.9701492537313433\n"
          ]
        }
      ]
    },
    {
      "cell_type": "markdown",
      "source": [
        "##Excercise\n"
      ],
      "metadata": {
        "id": "tC1WkZ4U2Rvj"
      }
    },
    {
      "cell_type": "markdown",
      "source": [
        "1. Implement SVM classifier on MNIST dataset, compare the performance of linear, poly-\n",
        "nomial and RBF kernels."
      ],
      "metadata": {
        "id": "h8sgMkci2Xze"
      }
    },
    {
      "cell_type": "code",
      "source": [
        "from sklearn.datasets import load_digits\n",
        "from sklearn.svm import SVC\n",
        "from sklearn.model_selection import train_test_split\n",
        "from sklearn.metrics import accuracy_score,confusion_matrix,precision_score,recall_score\n"
      ],
      "metadata": {
        "id": "EBNOJ2jf1sW5"
      },
      "execution_count": 42,
      "outputs": []
    },
    {
      "cell_type": "code",
      "source": [
        "def print_measures3(y_true,y_pred):\n",
        "  return {\n",
        "      \"accuracy\":accuracy_score(y_test,y_pred),\n",
        "      \"precision\":precision_score(y_test,y_pred,average='micro'),\n",
        "      \"recall\":recall_score(y_test,y_pred,average='micro')\n",
        "  }\n",
        "  pass"
      ],
      "metadata": {
        "id": "_HvjtuU52kYv"
      },
      "execution_count": 43,
      "outputs": []
    },
    {
      "cell_type": "code",
      "source": [
        "ds=load_digits()\n",
        "X=ds.data\n",
        "y=ds.target\n",
        "X_train,X_test,y_train,y_test=train_test_split(X,y,test_size=0.2,random_state=137)\n",
        "model=SVC(C=1,kernel=\"poly\").fit(X_train,y_train)\n"
      ],
      "metadata": {
        "id": "xmOTJ4ET2bir"
      },
      "execution_count": 44,
      "outputs": []
    },
    {
      "cell_type": "code",
      "source": [
        "y_pred=model.predict(X_test)\n",
        "\n",
        "metrics=print_measures3(y_test,y_pred)\n",
        "\n",
        "for metric in metrics:\n",
        "  print(metric,metrics[metric])"
      ],
      "metadata": {
        "colab": {
          "base_uri": "https://localhost:8080/"
        },
        "id": "SAlVmhz_2ePG",
        "outputId": "23bf4597-8820-44c7-9976-9ce75a7cd024"
      },
      "execution_count": 45,
      "outputs": [
        {
          "output_type": "stream",
          "name": "stdout",
          "text": [
            "accuracy 0.9861111111111112\n",
            "precision 0.9861111111111112\n",
            "recall 0.9861111111111112\n"
          ]
        }
      ]
    },
    {
      "cell_type": "markdown",
      "source": [
        "2. What is the accuracy, precision and recall of the models generated in Part A and Part B."
      ],
      "metadata": {
        "id": "osQ1FCCl2pt5"
      }
    },
    {
      "cell_type": "code",
      "source": [
        "#PART A\n",
        "# accuracy:-  1.0\n",
        "# precision:-  1.0\n",
        "# recall:-  1.0\n",
        "\n",
        "#PART B\n",
        "# accuracy 0.9298245614035088\n",
        "# precision 0.9154929577464789\n",
        "# recall 0.9701492537313433"
      ],
      "metadata": {
        "id": "Oc6UQg2W2gHd"
      },
      "execution_count": 46,
      "outputs": []
    }
  ]
}